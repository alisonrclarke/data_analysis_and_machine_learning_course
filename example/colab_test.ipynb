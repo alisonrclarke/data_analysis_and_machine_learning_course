{
  "nbformat": 4,
  "nbformat_minor": 0,
  "metadata": {
    "kernelspec": {
      "name": "python3",
      "display_name": "Python 3"
    },
    "language_info": {
      "codemirror_mode": {
        "name": "ipython",
        "version": 3
      },
      "file_extension": ".py",
      "mimetype": "text/x-python",
      "name": "python",
      "nbconvert_exporter": "python",
      "pygments_lexer": "ipython3",
      "version": "3.7.6"
    },
    "colab": {
      "name": "Google Colab Test for Data Analysis and Machine Learning Course",
      "provenance": []
    },
    "accelerator": "GPU"
  },
  "cells": [
    {
      "cell_type": "markdown",
      "metadata": {
        "id": "bYkOZBdOfO9G",
        "colab_type": "text"
      },
      "source": [
        "## How to use\n",
        "All of the exercises and slides are Jupyter notebooks run through Google's [Colab](https://colab.research.google.com) service.\n",
        "You can run all of these by clicking on a cell and then pressing \"Shift Enter\".\n",
        "You can edit the code or text by double-clicking on a cell.\n",
        "You can reevaluate the code after editing to see the updated output.\n",
        "Output such as text and images automatically displayed, which is especially useful when outputting graphs or visualisations.\n",
        "\n",
        "### How to Enable GPU\n",
        "The machine learning exercises will require usage of a GPU. To enable this, go to the \"Runtime\" menu at the top of the page, and click select the \"Change Runtime Type\" option. Under \"Hardware Accelerator\", choose \"GPU\" and then hit \"Save\". \n",
        "\n",
        "If you have any questions or issues, please send me an email."
      ]
    },
    {
      "cell_type": "markdown",
      "metadata": {
        "id": "WqoVqZlLf-Qf",
        "colab_type": "text"
      },
      "source": [
        "## Familiarise Yourself with Colab\n",
        "Before the course starts, please familiarise yourself with how Google Colab works by running the remaining cells in the rest of this notebook:"
      ]
    },
    {
      "cell_type": "markdown",
      "metadata": {
        "id": "4PUfz2BJiyD3",
        "colab_type": "text"
      },
      "source": [
        "Basic test (try change this to 3 + 3 and reevaluate):"
      ]
    },
    {
      "cell_type": "code",
      "metadata": {
        "id": "EKUnthMuf1Ut",
        "colab_type": "code",
        "colab": {}
      },
      "source": [
        "2 + 2  # Click here, then press \"Shift and Enter\" or the \"Play\" button on the left. You should see the answer \"4\" below this"
      ],
      "execution_count": 0,
      "outputs": []
    },
    {
      "cell_type": "markdown",
      "metadata": {
        "id": "ndFuitTQizmT",
        "colab_type": "text"
      },
      "source": [
        "Testing GPU support:"
      ]
    },
    {
      "cell_type": "code",
      "metadata": {
        "id": "AlX-44uygLaW",
        "colab_type": "code",
        "colab": {}
      },
      "source": [
        "import torch\n",
        "if (torch.cuda.is_available()):\n",
        "    print(\"GPU is enabled, congratulations!\")\n",
        "else:\n",
        "    print(\"GPU is not enabled, please follow steps above in section 'How to Enable GPU'\")"
      ],
      "execution_count": 0,
      "outputs": []
    },
    {
      "cell_type": "markdown",
      "metadata": {
        "id": "h5SRIxRPjCOm",
        "colab_type": "text"
      },
      "source": [
        "Showing how graphics can easily be shown:"
      ]
    },
    {
      "cell_type": "code",
      "metadata": {
        "id": "6jy5KeNXgvt5",
        "colab_type": "code",
        "colab": {}
      },
      "source": [
        "import matplotlib\n",
        "import matplotlib.pyplot as plt\n",
        "import numpy as np\n",
        "x_data = np.arange(0.0, 2.0, 0.01)\n",
        "y_data = 1 + np.sin(2 * np.pi * x_data)\n",
        "fig, ax = plt.subplots()\n",
        "ax.plot(x_data, y_data)\n",
        "ax.set(xlabel='time (s)', ylabel='voltage (mV)',\n",
        "       title='Sin Example')\n",
        "plt.show()"
      ],
      "execution_count": 0,
      "outputs": []
    },
    {
      "cell_type": "markdown",
      "metadata": {
        "id": "BF0SzMb2kAo-",
        "colab_type": "text"
      },
      "source": [
        "## (Optional) Saving to Google Drive\n",
        "If you would like to save your work, make sure you are signed in to your Google Account and then go to File -> Save a copy to Drive."
      ]
    }
  ]
}