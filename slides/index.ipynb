{
 "cells": [
  {
   "cell_type": "markdown",
   "metadata": {},
   "source": [
    "# Data Analysis and Machine Learning\n",
    "This notebook is the entry point for ARC's Introduction to Data Analysis and Machine Learning course.\n",
    "If you notice any mistakes, please raise an issue through [Github](https://github.com/jonathanfrawley/data_analysis_and_machine_learning_course)."
   ]
  },
  {
   "cell_type": "markdown",
   "metadata": {},
   "source": [
    "## How to use\n",
    "All of the exercises and slides are Jupyter notebooks run through Google's Colab service.\n",
    "You can run all of these by clicking on a cell and then pressing \"Shift Enter\".\n",
    "You can edit the code by double-clicking on a cell.\n",
    "You can reevaluate the code after editing to see the updated output.\n",
    "Output such as text and images automatically displayed, which is especially useful when outputting graphs or visualisations.\n",
    "\n",
    "NOTE: The machine learning exercises will require usage of a GPU. To enable this, go to the \"Runtime\" menu at the top of the page, and click select the \"Change Runtime Type\" option. Under \"Hardware Accelerator\", choose \"GPU\" and then hit \"Save\". \n",
    "\n",
    "If you have any questions or issues, feel free to ask one of our instructors."
   ]
  },
  {
   "cell_type": "markdown",
   "metadata": {},
   "source": [
    "---\n",
    "# Intro to Probability Theory\n",
    "## Slides\n",
    " - <link to slide_0>\n",
    " \n",
    "## Exercises\n",
    " - <link to exercise_0>\n",
    "\n",
    "## Other links\n",
    " - <resource_0>\n",
    " \n",
    "---"
   ]
  },
  {
   "cell_type": "markdown",
   "metadata": {},
   "source": [
    "# Pandas and Data Analysis\n",
    "## Slides\n",
    " - <link to slide_0>\n",
    " \n",
    "## Exercises\n",
    " - <link to exercise_0>\n",
    "\n",
    "## Other links\n",
    " - <resource_0>\n",
    " \n",
    "---"
   ]
  },
  {
   "cell_type": "markdown",
   "metadata": {},
   "source": [
    "# Introduction to Machine Learning\n",
    "## Slides\n",
    " - <link to slide_0>\n",
    " \n",
    "## Exercises\n",
    " - <link to exercise_0>\n",
    "\n",
    "## Other links\n",
    " - <resource_0>\n",
    " \n",
    "---"
   ]
  }
 ],
 "metadata": {
  "kernelspec": {
   "display_name": "Python 3",
   "language": "python",
   "name": "python3"
  },
  "language_info": {
   "codemirror_mode": {
    "name": "ipython",
    "version": 3
   },
   "file_extension": ".py",
   "mimetype": "text/x-python",
   "name": "python",
   "nbconvert_exporter": "python",
   "pygments_lexer": "ipython3",
   "version": "3.7.6"
  }
 },
 "nbformat": 4,
 "nbformat_minor": 2
}
