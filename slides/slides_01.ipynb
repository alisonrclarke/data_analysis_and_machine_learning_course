{
 "cells": [
  {
   "cell_type": "markdown",
   "metadata": {
    "slideshow": {
     "slide_type": "slide"
    }
   },
   "source": [
    " # Introduction to Probability\n",
    " *by Jonathan Frawley*\n"
   ]
  },
  {
   "cell_type": "markdown",
   "metadata": {
    "slideshow": {
     "slide_type": "slide"
    }
   },
   "source": [
    "# Who am I?\n",
    " - Intro about me\n",
    " - 10 years of software development experience in industry (Python and Scala mostly)\n",
    " - Part-time PhD in Computer Science in Deep Learning\n",
    " - Research Software Engineer in Advanced Research Computing"
   ]
  },
  {
   "cell_type": "markdown",
   "metadata": {
    "slideshow": {
     "slide_type": "slide"
    }
   },
   "source": [
    "# Who are ARC?\n",
    " - Technical help on projects which could benefit from computation\n",
    " - University-wide (every department, not just computationally intensive ones)\n",
    " - Provide programmers for research projects if built into grant proposals\n",
    " - Hamilton / Nice19 machine\n",
    " - Come to Research Methods Café to find out more and for ad-hoc technical advice (virtual event exists)"
   ]
  },
  {
   "cell_type": "markdown",
   "metadata": {
    "slideshow": {
     "slide_type": "slide"
    }
   },
   "source": [
    "# Welcome\n",
    "Mixture of lecturing and hands on exercises. [All materials are open source, including slides](https://github.com/jonathanfrawley/data_analysis_and_machine_learning_course) (TODO: Put in bit.ly link). Available after the course finishes, so don't worry if you do not get through all exercises.\n",
    " 1. General introduction, matplotlib and basic probability theory\n",
    " 2. Pandas and data analysis\n",
    " 3. PyTorch and Deep Learning introduction"
   ]
  },
  {
   "cell_type": "markdown",
   "metadata": {
    "slideshow": {
     "slide_type": "slide"
    }
   },
   "source": [
    "# Google Collab\n",
    " - TODO: What is Google Collab\n",
    " - TODO: How to access (bit.ly link and post in Zoom channel)"
   ]
  },
  {
   "cell_type": "code",
   "execution_count": 1,
   "metadata": {
    "slideshow": {
     "slide_type": "fragment"
    }
   },
   "outputs": [],
   "source": [
    "def test():\n",
    "    pass"
   ]
  },
  {
   "cell_type": "code",
   "execution_count": null,
   "metadata": {
    "slideshow": {
     "slide_type": "fragment"
    }
   },
   "outputs": [],
   "source": [
    "def test2():\n",
    "    pass"
   ]
  }
 ],
 "metadata": {
  "celltoolbar": "Slideshow",
  "kernelspec": {
   "display_name": "Python 3",
   "language": "python",
   "name": "python3"
  },
  "language_info": {
   "codemirror_mode": {
    "name": "ipython",
    "version": 3
   },
   "file_extension": ".py",
   "mimetype": "text/x-python",
   "name": "python",
   "nbconvert_exporter": "python",
   "pygments_lexer": "ipython3",
   "version": "3.7.6"
  }
 },
 "nbformat": 4,
 "nbformat_minor": 2
}
