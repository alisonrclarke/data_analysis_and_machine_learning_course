{
 "cells": [
  {
   "cell_type": "markdown",
   "metadata": {
    "slideshow": {
     "slide_type": "slide"
    }
   },
   "source": [
    " # Introduction to Probability\n",
    " *by Jonathan Frawley*\n"
   ]
  },
  {
   "cell_type": "markdown",
   "metadata": {
    "slideshow": {
     "slide_type": "slide"
    }
   },
   "source": [
    "# Who am I?\n",
    " - Intro about me\n",
    " - 10 years of software development experience in industry (Python and Scala mostly)\n",
    " - Part-time PhD in Computer Science in Deep Learning\n",
    " - Research Software Engineer in Advanced Research Computing"
   ]
  },
  {
   "cell_type": "markdown",
   "metadata": {
    "slideshow": {
     "slide_type": "slide"
    }
   },
   "source": [
    "# Who are ARC?\n",
    " - Technical help on projects which could benefit from computation\n",
    " - University-wide (every department, not just computationally intensive ones)\n",
    " - Provide programmers for research projects if built into grant proposals\n",
    " - Hamilton / Nice19 machine\n",
    " - Come to Research Methods Café to find out more and for ad-hoc technical advice (virtual event exists)"
   ]
  },
  {
   "cell_type": "markdown",
   "metadata": {
    "slideshow": {
     "slide_type": "slide"
    }
   },
   "source": [
    "# Basic information about today\n",
    " - Mixture of lecturing and hands on exercises. \n",
    " - All materials are open source, including slides.\n",
    " - These will remain available after the course finishes, so don't worry if you do not get through all exercises.\n",
    " - If you notice issues, please contact me directly or raise an issue on the GitHub repository: https://github.com/jonathanfrawley/data_analysis_and_machine_learning_course"
   ]
  },
  {
   "cell_type": "markdown",
   "metadata": {
    "slideshow": {
     "slide_type": "slide"
    }
   },
   "source": [
    "# Outline of Day\n",
    " 1. General introduction, matplotlib and basic probability theory\n",
    " 2. Pandas and data analysis\n",
    " 3. PyTorch and Deep Learning introduction"
   ]
  },
  {
   "cell_type": "markdown",
   "metadata": {
    "slideshow": {
     "slide_type": "slide"
    }
   },
   "source": [
    "# Google Collab\n",
    "<img style=\"text-align: center;\" src=\"https://miro.medium.com/max/1400/1*8N7xbq6ahVvWkEq_S5EhMA.jpeg\" alt=\"Google Collab logo\" width=\"300\"/>\n",
    " \n",
    " - Google Colab is a free system for running Python notebooks in the cloud\n",
    " - It supports a wide variety of Python libraries\n",
    " - Free access to state-of-the-art GPU hardware\n",
    " - Link: https://colab.research.google.com/\n",
    " - We will use Google Collab for all exercises\n",
    " - Links and instructions are included on the main page"
   ]
  },
  {
   "cell_type": "markdown",
   "metadata": {
    "slideshow": {
     "slide_type": "slide"
    }
   },
   "source": [
    "# Introduction to Matplotlib"
   ]
  },
  {
   "cell_type": "markdown",
   "metadata": {
    "slideshow": {
     "slide_type": "slide"
    }
   },
   "source": [
    "We are going to look at plotting of data using a library called [Matplotlib](https://matplotlib.org/). It is widely used, very flexible and is capable of producing publication-quality plots."
   ]
  },
  {
   "cell_type": "markdown",
   "metadata": {
    "slideshow": {
     "slide_type": "slide"
    }
   },
   "source": [
    "## Basic Example"
   ]
  },
  {
   "cell_type": "markdown",
   "metadata": {
    "slideshow": {
     "slide_type": "fragment"
    }
   },
   "source": [
    "We first need to import our dependencies:"
   ]
  },
  {
   "cell_type": "code",
   "execution_count": 2,
   "metadata": {
    "slideshow": {
     "slide_type": "fragment"
    }
   },
   "outputs": [],
   "source": [
    "import matplotlib\n",
    "import matplotlib.pyplot as plt\n",
    "import numpy as np"
   ]
  },
  {
   "cell_type": "markdown",
   "metadata": {
    "slideshow": {
     "slide_type": "fragment"
    }
   },
   "source": [
    "Next, we generate some sample data for plotting, based on a sin wave:"
   ]
  },
  {
   "cell_type": "code",
   "execution_count": 3,
   "metadata": {
    "slideshow": {
     "slide_type": "fragment"
    }
   },
   "outputs": [],
   "source": [
    "# Data for plotting\n",
    "x_data = np.arange(0.0, 2.0, 0.01)\n",
    "y_data = 1 + np.sin(2 * np.pi * x_data)"
   ]
  },
  {
   "cell_type": "markdown",
   "metadata": {
    "slideshow": {
     "slide_type": "subslide"
    }
   },
   "source": [
    "Next, we setup the plots. You can setup multiple subplots but here we just setup a single plot. Then we set the labels and title of the plot. Finally, we show it:"
   ]
  },
  {
   "cell_type": "code",
   "execution_count": 4,
   "metadata": {
    "slideshow": {
     "slide_type": "fragment"
    }
   },
   "outputs": [
    {
     "data": {
      "image/png": "[encoded data removed]",
      "text/plain": [
       "<Figure size 432x288 with 1 Axes>"
      ]
     },
     "metadata": {
      "needs_background": "light"
     },
     "output_type": "display_data"
    }
   ],
   "source": [
    "fig, ax = plt.subplots()\n",
    "ax.plot(x_data, y_data)\n",
    "ax.set(xlabel='time (s)', ylabel='voltage (mV)',\n",
    "       title='Sin Example')\n",
    "plt.show()"
   ]
  },
  {
   "cell_type": "markdown",
   "metadata": {
    "slideshow": {
     "slide_type": "slide"
    }
   },
   "source": [
    "# Very Brief Intro to Probability Theory"
   ]
  },
  {
   "cell_type": "markdown",
   "metadata": {
    "slideshow": {
     "slide_type": "slide"
    }
   },
   "source": [
    "How likely is an event to occur?"
   ]
  },
  {
   "cell_type": "markdown",
   "metadata": {
    "slideshow": {
     "slide_type": "slide"
    }
   },
   "source": [
    "## Coin Flip Example"
   ]
  },
  {
   "cell_type": "markdown",
   "metadata": {
    "slideshow": {
     "slide_type": "fragment"
    }
   },
   "source": [
    "<img width=300 src=\"http://www.irishcoinage.com/JPEGS/K00004X4.JPG\"/>"
   ]
  },
  {
   "cell_type": "markdown",
   "metadata": {
    "slideshow": {
     "slide_type": "fragment"
    }
   },
   "source": [
    "If we flip this (unbiased) coin once, how likely is it that we get heads (stag) or tails (harp)?"
   ]
  },
  {
   "cell_type": "markdown",
   "metadata": {
    "slideshow": {
     "slide_type": "fragment"
    }
   },
   "source": [
    "Intuitively, we would expect it to be heads about half the time we flip it."
   ]
  },
  {
   "cell_type": "markdown",
   "metadata": {
    "slideshow": {
     "slide_type": "fragment"
    }
   },
   "source": [
    "In probability theory, we assign the likelihood of an event happening a number between 0 and 1.\n",
    "This is known as the \"probability\" of the event occuring."
   ]
  },
  {
   "cell_type": "markdown",
   "metadata": {
    "slideshow": {
     "slide_type": "slide"
    }
   },
   "source": [
    "We can express the probability of the coin ending up on tails ($p_{tails}$) as:\n",
    "\n",
    "$P_{tails} = 0.5$"
   ]
  },
  {
   "cell_type": "markdown",
   "metadata": {
    "slideshow": {
     "slide_type": "fragment"
    }
   },
   "source": [
    "Similarly, we can express the probability of the coin ending up on heads ($p_{heads}$) as:\n",
    "\n",
    "$P_{heads} = 0.5$"
   ]
  },
  {
   "cell_type": "markdown",
   "metadata": {
    "slideshow": {
     "slide_type": "slide"
    }
   },
   "source": [
    "The general formula for the probability of an independent event is :\n",
    "\n",
    "$P_{event} = \\dfrac{(total\\: number\\: of\\: relevant\\: outcomes)}{(total\\: number\\: of\\: possible\\: outcomes)}$\n"
   ]
  },
  {
   "cell_type": "markdown",
   "metadata": {
    "slideshow": {
     "slide_type": "slide"
    }
   },
   "source": [
    "# Die Example🎲\n",
    "Using this, can we work out probability of an unbiased die landing on 3?"
   ]
  },
  {
   "cell_type": "markdown",
   "metadata": {
    "slideshow": {
     "slide_type": "fragment"
    }
   },
   "source": [
    "$total\\: number\\: of\\: relevant\\: outcomes= 1$ (a die only has one side which has 3 on it)\n",
    "\n",
    "$total\\: number\\: of\\: possible\\: outcomes = 6$ (a die has six sides)\n",
    "\n",
    "$P_{three} = 1 / 6$\n"
   ]
  },
  {
   "cell_type": "markdown",
   "metadata": {
    "slideshow": {
     "slide_type": "slide"
    }
   },
   "source": [
    "## Two Dice 🎲 🎲\n",
    "\n",
    "How do you answer questions like:\n",
    " - What is the probability of rolling a five AND a six?\n",
    " - What is the probability of rolling a five OR a six?\n",
    " "
   ]
  },
  {
   "cell_type": "markdown",
   "metadata": {
    "slideshow": {
     "slide_type": "slide"
    }
   },
   "source": [
    "### General formulae"
   ]
  },
  {
   "cell_type": "markdown",
   "metadata": {
    "slideshow": {
     "slide_type": "slide"
    }
   },
   "source": [
    "#### A and B\n",
    "$P(A \\cap B) = P(A) \\cdot P(B)$\n",
    "\n",
    "e.g - What is the probability of rolling a five AND a six?\n",
    "\n",
    "$\\dfrac{1}{6} \\cdot \\dfrac{1}{6} = \\dfrac{1}{36}$\n",
    "\n",
    "#### A or B\n",
    "$P(A \\cup B) = P(A) + P(B)$\n",
    "\n",
    "e.g - What is the probability of rolling a five OR a six?\n",
    "\n",
    "$\\dfrac{1}{6} + \\dfrac{1}{6} = \\dfrac{1}{3}$\n"
   ]
  },
  {
   "cell_type": "markdown",
   "metadata": {
    "slideshow": {
     "slide_type": "slide"
    }
   },
   "source": [
    "# Probability Distributions"
   ]
  },
  {
   "cell_type": "markdown",
   "metadata": {
    "slideshow": {
     "slide_type": "slide"
    }
   },
   "source": [
    "## Probability Distribution Function (PDF)\n",
    "This is best illustrated by an example.\n",
    "\n",
    "Let us look at simulating the rolling of a dice 10000 times using numpy's [randint](https://docs.scipy.org/doc/numpy-1.15.0/reference/generated/numpy.random.randint.html) function, plotting the number of results on a graph."
   ]
  },
  {
   "cell_type": "code",
   "execution_count": 5,
   "metadata": {
    "slideshow": {
     "slide_type": "fragment"
    }
   },
   "outputs": [
    {
     "data": {
      "image/png": "[encoded data removed]",
      "text/plain": [
       "<Figure size 432x288 with 1 Axes>"
      ]
     },
     "metadata": {
      "needs_background": "light"
     },
     "output_type": "display_data"
    }
   ],
   "source": [
    "s = np.random.randint(1, high=7, size=10000)  # high is exclusive, so need to give 7\n",
    "count, bins, ignored = plt.hist(s, bins=6, range=(0.5, 6.5))  # set range so x-axis are in middle of buckets\n",
    "plt.show()"
   ]
  },
  {
   "cell_type": "markdown",
   "metadata": {
    "slideshow": {
     "slide_type": "slide"
    }
   },
   "source": [
    "As we expected, we got a similar number of results for each of the sides. We can also plot this in such a way that the area under the graph sums to one:"
   ]
  },
  {
   "cell_type": "code",
   "execution_count": 6,
   "metadata": {
    "slideshow": {
     "slide_type": "fragment"
    }
   },
   "outputs": [
    {
     "data": {
      "image/png": "[encoded data removed]",
      "text/plain": [
       "<Figure size 432x288 with 1 Axes>"
      ]
     },
     "metadata": {
      "needs_background": "light"
     },
     "output_type": "display_data"
    }
   ],
   "source": [
    "count, bins, ignored = plt.hist(s, bins=6, range=(0.5, 6.5), density=True)  # density=True\n",
    "plt.show()"
   ]
  },
  {
   "cell_type": "markdown",
   "metadata": {
    "slideshow": {
     "slide_type": "slide"
    }
   },
   "source": [
    "This is what is known as a Probability Density Function (PDF). The above PDF represents an example of a probability distribution known as the *uniform* distribution.\n",
    "\n",
    "There are many kinds of probability distribution, we will talk about some important examples today.\n",
    "\n"
   ]
  },
  {
   "cell_type": "markdown",
   "metadata": {
    "slideshow": {
     "slide_type": "slide"
    }
   },
   "source": [
    "## Normal Distribution\n",
    "Probably the most important distribution is the *Normal* distribution. Also known as a bell-shaped curve or gaussian distribution.\n",
    "It has many interesting rpo"
   ]
  },
  {
   "cell_type": "code",
   "execution_count": 50,
   "metadata": {
    "slideshow": {
     "slide_type": "slide"
    }
   },
   "outputs": [
    {
     "data": {
      "image/png": "[encoded data removed]",
      "text/plain": [
       "<Figure size 432x288 with 1 Axes>"
      ]
     },
     "metadata": {
      "needs_background": "light"
     },
     "output_type": "display_data"
    }
   ],
   "source": [
    "mean, std = 0, 0.1 # mean and standard deviation\n",
    "s = np.random.normal(mean, std, 10000)\n",
    "count, bins, ignored = plt.hist(s, 30, density=True)\n",
    "plt.plot(bins, 1/(std * np.sqrt(2 * np.pi)) *\n",
    "         np.exp( - (bins - mean)**2 / (2 * std**2) ),\n",
    "         linewidth=2, color='r')\n",
    "plt.show()"
   ]
  },
  {
   "cell_type": "markdown",
   "metadata": {
    "slideshow": {
     "slide_type": "fragment"
    }
   },
   "source": [
    "You can see the simulated events in blue, and the ideal normal distribution in red."
   ]
  },
  {
   "cell_type": "markdown",
   "metadata": {},
   "source": [
    "## Poisson Distribution\n",
    "The Poisson distribution may be useful to model events such as\n",
    "\n",
    " - The number of meteorites greater than 1 meter diameter that strike Earth in a year\n",
    " - The number of patients arriving in an emergency room between 10 and 11 pm\n",
    " - The number of laser photons hitting a detector in a particular time interval"
   ]
  },
  {
   "cell_type": "code",
   "execution_count": 49,
   "metadata": {
    "slideshow": {
     "slide_type": "slide"
    }
   },
   "outputs": [
    {
     "data": {
      "image/png": "[encoded data removed]",
      "text/plain": [
       "<Figure size 432x288 with 1 Axes>"
      ]
     },
     "metadata": {
      "needs_background": "light"
     },
     "output_type": "display_data"
    }
   ],
   "source": [
    "s = np.random.poisson(5, 10000)\n",
    "count, bins, ignored = plt.hist(s, 14, density=True)\n",
    "plt.show()"
   ]
  },
  {
   "cell_type": "markdown",
   "metadata": {
    "slideshow": {
     "slide_type": "slide"
    }
   },
   "source": [
    "## Mean\n",
    "The \"average\" value."
   ]
  },
  {
   "cell_type": "code",
   "execution_count": 62,
   "metadata": {
    "slideshow": {
     "slide_type": "fragment"
    }
   },
   "outputs": [
    {
     "data": {
      "image/png": "[encoded data removed]",
      "text/plain": [
       "<Figure size 432x288 with 1 Axes>"
      ]
     },
     "metadata": {
      "needs_background": "light"
     },
     "output_type": "display_data"
    }
   ],
   "source": [
    "mean, sigma = 13, 0.1 # mean and standard deviation\n",
    "s = np.random.normal(mean, sigma, 10000)\n",
    "count, bins, ignored = plt.hist(s, 30, density=True)\n",
    "plt.axvline(x=mean, color='b')\n",
    "\n",
    "plt.show()"
   ]
  },
  {
   "cell_type": "markdown",
   "metadata": {
    "slideshow": {
     "slide_type": "slide"
    }
   },
   "source": [
    "## Standard Deviation\n",
    "Basically, how spread out your data is."
   ]
  },
  {
   "cell_type": "code",
   "execution_count": 63,
   "metadata": {
    "slideshow": {
     "slide_type": "fragment"
    }
   },
   "outputs": [
    {
     "data": {
      "image/png": "[encoded data removed]",
      "text/plain": [
       "<Figure size 432x288 with 1 Axes>"
      ]
     },
     "metadata": {
      "needs_background": "light"
     },
     "output_type": "display_data"
    }
   ],
   "source": [
    "mean, sigma = 13, 0.1 # mean and standard deviation\n",
    "s = np.random.normal(mean, sigma, 10000)\n",
    "count, bins, ignored = plt.hist(s, 30, density=True)\n",
    "\n",
    "plt.axvline(x=mean+s.std(), color='b')\n",
    "plt.axvline(x=mean-s.std(), color='b')\n",
    "\n",
    "plt.axvline(x=mean+s.std() * 2, color='g')\n",
    "plt.axvline(x=mean-s.std() * 2, color='g')\n",
    "\n",
    "\n",
    "plt.axvline(x=mean+s.std() * 3, color='y')\n",
    "plt.axvline(x=mean-s.std() * 3, color='y')\n",
    "\n",
    "plt.show()"
   ]
  },
  {
   "cell_type": "markdown",
   "metadata": {},
   "source": [
    "## Median\n",
    "\n",
    "The 50th percentile of the distribution. 50% of results are below and above this point."
   ]
  },
  {
   "cell_type": "code",
   "execution_count": 61,
   "metadata": {},
   "outputs": [
    {
     "data": {
      "image/png": "[encoded data removed]",
      "text/plain": [
       "<Figure size 432x288 with 1 Axes>"
      ]
     },
     "metadata": {
      "needs_background": "light"
     },
     "output_type": "display_data"
    }
   ],
   "source": [
    "s = np.random.poisson(5, 10000)\n",
    "count, bins, ignored = plt.hist(s, 14, density=True)\n",
    "\n",
    "plt.axvline(x=np.median(s), color='r')\n",
    "\n",
    "plt.show()"
   ]
  },
  {
   "cell_type": "markdown",
   "metadata": {},
   "source": [
    "## Percentile\n",
    "You can also get arbitrary percentiles. This is useful in certain scenarios where you want to ensure a Quality of Service (QoS). An example might be that an online service guarantees of uptime of 99%."
   ]
  },
  {
   "cell_type": "code",
   "execution_count": 60,
   "metadata": {},
   "outputs": [
    {
     "data": {
      "image/png": "[encoded data removed]",
      "text/plain": [
       "<Figure size 432x288 with 1 Axes>"
      ]
     },
     "metadata": {
      "needs_background": "light"
     },
     "output_type": "display_data"
    }
   ],
   "source": [
    "percentile = 99\n",
    "s = np.random.poisson(5, 10000)\n",
    "count, bins, ignored = plt.hist(s, 14, density=True)\n",
    "\n",
    "plt.axvline(x=np.percentile(s, percentile), color='r')\n",
    "\n",
    "plt.show()"
   ]
  },
  {
   "cell_type": "markdown",
   "metadata": {},
   "source": [
    "## Mode\n",
    "The mode of the set of data values that appear most often"
   ]
  },
  {
   "cell_type": "code",
   "execution_count": 59,
   "metadata": {},
   "outputs": [
    {
     "data": {
      "image/png": "[encoded data removed]",
      "text/plain": [
       "<Figure size 432x288 with 1 Axes>"
      ]
     },
     "metadata": {
      "needs_background": "light"
     },
     "output_type": "display_data"
    }
   ],
   "source": [
    "from scipy import stats\n",
    "s = np.random.poisson(5, 10000)\n",
    "count, bins, ignored = plt.hist(s, 14, density=True)\n",
    "\n",
    "plt.axvline(x=stats.mode(s)[0], color='r')\n",
    "\n",
    "plt.show()"
   ]
  },
  {
   "cell_type": "markdown",
   "metadata": {
    "slideshow": {
     "slide_type": "slide"
    }
   },
   "source": [
    "## Error Bars\n",
    "You should include error bars when showing mean data from multiple samples.\n",
    "This could include survey results or results of multiple runs of an experiment.\n",
    "This shows how consistent or spread out your results are."
   ]
  },
  {
   "cell_type": "code",
   "execution_count": 43,
   "metadata": {
    "slideshow": {
     "slide_type": "fragment"
    }
   },
   "outputs": [
    {
     "data": {
      "image/png": "[encoded data removed]",
      "text/plain": [
       "<Figure size 432x288 with 1 Axes>"
      ]
     },
     "metadata": {
      "needs_background": "light"
     },
     "output_type": "display_data"
    }
   ],
   "source": [
    "x = np.array([1, 2, 3, 4, 5])\n",
    "y = np.power(x, 2) # Effectively y = x**2\n",
    "e = np.array([1.5, 2.6, 3.7, 4.6, 5.5])\n",
    "\n",
    "plt.errorbar(x, y, e, linestyle='None', marker='^')\n",
    "\n",
    "plt.show()"
   ]
  }
 ],
 "metadata": {
  "celltoolbar": "Slideshow",
  "kernelspec": {
   "display_name": "Python 3",
   "language": "python",
   "name": "python3"
  },
  "language_info": {
   "codemirror_mode": {
    "name": "ipython",
    "version": 3
   },
   "file_extension": ".py",
   "mimetype": "text/x-python",
   "name": "python",
   "nbconvert_exporter": "python",
   "pygments_lexer": "ipython3",
   "version": "3.7.6"
  }
 },
 "nbformat": 4,
 "nbformat_minor": 2
}
