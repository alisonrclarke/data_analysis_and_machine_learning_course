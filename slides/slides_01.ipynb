{
 "cells": [
  {
   "cell_type": "markdown",
   "metadata": {
    "slideshow": {
     "slide_type": "slide"
    }
   },
   "source": [
    " # Introduction to Probability\n",
    " *by Jonathan Frawley*\n"
   ]
  },
  {
   "cell_type": "markdown",
   "metadata": {
    "slideshow": {
     "slide_type": "slide"
    }
   },
   "source": [
    "# Who am I?\n",
    " - Intro about me\n",
    " - 10 years of software development experience in industry (Python and Scala mostly)\n",
    " - Part-time PhD in Computer Science in Deep Learning\n",
    " - Research Software Engineer in Advanced Research Computing"
   ]
  },
  {
   "cell_type": "markdown",
   "metadata": {
    "slideshow": {
     "slide_type": "slide"
    }
   },
   "source": [
    "# Who are ARC?\n",
    " - Technical help on projects which could benefit from computation\n",
    " - University-wide (every department, not just computationally intensive ones)\n",
    " - Provide programmers for research projects if built into grant proposals\n",
    " - Hamilton / Nice19 machine\n",
    " - Come to Research Methods Café to find out more and for ad-hoc technical advice (virtual event exists)"
   ]
  },
  {
   "cell_type": "markdown",
   "metadata": {
    "slideshow": {
     "slide_type": "slide"
    }
   },
   "source": [
    "# Basic information about today\n",
    " - Mixture of lecturing and hands on exercises. \n",
    " - All materials are open source, including slides.\n",
    " - These will remain available after the course finishes, so don't worry if you do not get through all exercises.\n",
    " - If you notice issues, please contact me directly or raise an issue on the GitHub repository: https://github.com/jonathanfrawley/data_analysis_and_machine_learning_course"
   ]
  },
  {
   "cell_type": "markdown",
   "metadata": {
    "slideshow": {
     "slide_type": "slide"
    }
   },
   "source": [
    "# Outline of Day\n",
    " 1. General introduction, matplotlib and basic probability theory\n",
    " 2. Pandas and data analysis\n",
    " 3. PyTorch and Deep Learning introduction"
   ]
  },
  {
   "cell_type": "markdown",
   "metadata": {
    "slideshow": {
     "slide_type": "slide"
    }
   },
   "source": [
    "# Google Collab\n",
    "<img style=\"text-align: center;\" src=\"https://miro.medium.com/max/1400/1*8N7xbq6ahVvWkEq_S5EhMA.jpeg\" alt=\"Google Collab logo\" width=\"300\"/>\n",
    " \n",
    " - Google Colab is a free system for running Python notebooks in the cloud\n",
    " - It supports a wide variety of Python libraries\n",
    " - Free access to state-of-the-art GPU hardware\n",
    " - Link: https://colab.research.google.com/\n",
    " - We will use Google Collab for all exercises\n",
    " - Links and instructions are included on the main page"
   ]
  },
  {
   "cell_type": "markdown",
   "metadata": {
    "slideshow": {
     "slide_type": "slide"
    }
   },
   "source": [
    "# Introduction to Matplotlib"
   ]
  },
  {
   "cell_type": "markdown",
   "metadata": {
    "slideshow": {
     "slide_type": "slide"
    }
   },
   "source": [
    "We are going to look at plotting of data using a library called [Matplotlib](https://matplotlib.org/). It is widely used, very flexible and is capable of producing publication-quality plots."
   ]
  },
  {
   "cell_type": "markdown",
   "metadata": {
    "slideshow": {
     "slide_type": "slide"
    }
   },
   "source": [
    "## Basic Example"
   ]
  },
  {
   "cell_type": "markdown",
   "metadata": {
    "slideshow": {
     "slide_type": "fragment"
    }
   },
   "source": [
    "We first need to import our dependencies:"
   ]
  },
  {
   "cell_type": "code",
   "execution_count": 5,
   "metadata": {
    "slideshow": {
     "slide_type": "fragment"
    }
   },
   "outputs": [],
   "source": [
    "import matplotlib\n",
    "import matplotlib.pyplot as plt\n",
    "import numpy as np"
   ]
  },
  {
   "cell_type": "markdown",
   "metadata": {
    "slideshow": {
     "slide_type": "fragment"
    }
   },
   "source": [
    "Next, we generate some sample data for plotting, based on a sin wave:"
   ]
  },
  {
   "cell_type": "code",
   "execution_count": 7,
   "metadata": {
    "slideshow": {
     "slide_type": "fragment"
    }
   },
   "outputs": [],
   "source": [
    "# Data for plotting\n",
    "x_data = np.arange(0.0, 2.0, 0.01)\n",
    "y_data = 1 + np.sin(2 * np.pi * x_data)"
   ]
  },
  {
   "cell_type": "markdown",
   "metadata": {
    "slideshow": {
     "slide_type": "subslide"
    }
   },
   "source": [
    "Next, we setup the plots. You can setup multiple subplots but here we just setup a single plot. Then we set the labels and title of the plot. Finally, we show it:"
   ]
  },
  {
   "cell_type": "code",
   "execution_count": 8,
   "metadata": {
    "slideshow": {
     "slide_type": "fragment"
    }
   },
   "outputs": [
    {
     "data": {
      "image/png": "[encoded data removed]",
      "text/plain": [
       "<Figure size 432x288 with 1 Axes>"
      ]
     },
     "metadata": {
      "needs_background": "light"
     },
     "output_type": "display_data"
    }
   ],
   "source": [
    "fig, ax = plt.subplots()\n",
    "ax.plot(x_data, y_data)\n",
    "ax.set(xlabel='time (s)', ylabel='voltage (mV)',\n",
    "       title='Sin Example')\n",
    "plt.show()"
   ]
  },
  {
   "cell_type": "markdown",
   "metadata": {
    "slideshow": {
     "slide_type": "slide"
    }
   },
   "source": [
    "# Very Brief Intro to Probability Theory"
   ]
  },
  {
   "cell_type": "markdown",
   "metadata": {
    "slideshow": {
     "slide_type": "slide"
    }
   },
   "source": [
    "How likely is an event to occur?"
   ]
  },
  {
   "cell_type": "markdown",
   "metadata": {
    "slideshow": {
     "slide_type": "slide"
    }
   },
   "source": [
    "## Coin Flip Example"
   ]
  },
  {
   "cell_type": "markdown",
   "metadata": {
    "slideshow": {
     "slide_type": "fragment"
    }
   },
   "source": [
    "<img width=300 src=\"http://www.irishcoinage.com/JPEGS/K00004X4.JPG\"/>"
   ]
  },
  {
   "cell_type": "markdown",
   "metadata": {
    "slideshow": {
     "slide_type": "fragment"
    }
   },
   "source": [
    "If we flip this (unbiased) coin once, how likely is it that we get heads (stag) or tails (harp)?"
   ]
  },
  {
   "cell_type": "markdown",
   "metadata": {
    "slideshow": {
     "slide_type": "fragment"
    }
   },
   "source": [
    "Intuitively, we would expect it to be heads about half the time we flip it."
   ]
  },
  {
   "cell_type": "markdown",
   "metadata": {
    "slideshow": {
     "slide_type": "fragment"
    }
   },
   "source": [
    "In probability theory, we assign the likelihood of an event happening a number between 0 and 1.\n",
    "This is known as the \"probability\" of the event occuring."
   ]
  },
  {
   "cell_type": "markdown",
   "metadata": {
    "slideshow": {
     "slide_type": "slide"
    }
   },
   "source": [
    "We can express the probability of the coin ending up on tails ($p_{tails}$) as:\n",
    "\n",
    "$p_{tails} = 0.5$"
   ]
  },
  {
   "cell_type": "markdown",
   "metadata": {
    "slideshow": {
     "slide_type": "fragment"
    }
   },
   "source": [
    "Similarly, we can express the probability of the coin ending up on heads ($p_{heads}$) as:\n",
    "\n",
    "$p_{heads} = 0.5$"
   ]
  },
  {
   "cell_type": "markdown",
   "metadata": {
    "slideshow": {
     "slide_type": "slide"
    }
   },
   "source": [
    "The general formula for the probability of an independent event is :\n",
    "\n",
    "$p_{event} = \\dfrac{(total\\: number\\: of\\: relevant\\: outcomes)}{(total\\: number\\: of\\: possible\\: outcomes)}$\n"
   ]
  },
  {
   "cell_type": "markdown",
   "metadata": {
    "slideshow": {
     "slide_type": "slide"
    }
   },
   "source": [
    "# Die Example🎲\n",
    "Using this, can we work out probability of an unbiased die landing on 3?"
   ]
  },
  {
   "cell_type": "markdown",
   "metadata": {
    "slideshow": {
     "slide_type": "fragment"
    }
   },
   "source": [
    "$total\\: number\\: of\\: relevant\\: outcomes= 1$ (a die only has one side which has 3 on it)\n",
    "\n",
    "$total\\: number\\: of\\: possible\\: outcomes = 6$ (a die has six sides)\n",
    "\n",
    "$p_{three} = 1 / 6$\n"
   ]
  },
  {
   "cell_type": "markdown",
   "metadata": {},
   "source": [
    "## Probability of X and Y\n",
    "If we roll two unbiased dice, what is the probability that we will get a three on one die and three on the other?"
   ]
  },
  {
   "cell_type": "code",
   "execution_count": 14,
   "metadata": {},
   "outputs": [
    {
     "ename": "SyntaxError",
     "evalue": "invalid syntax (<ipython-input-14-a2d52e982b1e>, line 1)",
     "output_type": "error",
     "traceback": [
      "\u001b[0;36m  File \u001b[0;32m\"<ipython-input-14-a2d52e982b1e>\"\u001b[0;36m, line \u001b[0;32m1\u001b[0m\n\u001b[0;31m    $p_{event} =\u001b[0m\n\u001b[0m    ^\u001b[0m\n\u001b[0;31mSyntaxError\u001b[0m\u001b[0;31m:\u001b[0m invalid syntax\n"
     ]
    }
   ],
   "source": [
    "$p_{event} ="
   ]
  },
  {
   "cell_type": "markdown",
   "metadata": {},
   "source": [
    "## Aside: Gambler's Fallacy\n",
    " - This slide might save you a lifetime of gambling addiction"
   ]
  },
  {
   "cell_type": "code",
   "execution_count": null,
   "metadata": {},
   "outputs": [],
   "source": []
  }
 ],
 "metadata": {
  "celltoolbar": "Slideshow",
  "kernelspec": {
   "display_name": "Python 3",
   "language": "python",
   "name": "python3"
  },
  "language_info": {
   "codemirror_mode": {
    "name": "ipython",
    "version": 3
   },
   "file_extension": ".py",
   "mimetype": "text/x-python",
   "name": "python",
   "nbconvert_exporter": "python",
   "pygments_lexer": "ipython3",
   "version": "3.7.6"
  }
 },
 "nbformat": 4,
 "nbformat_minor": 2
}
