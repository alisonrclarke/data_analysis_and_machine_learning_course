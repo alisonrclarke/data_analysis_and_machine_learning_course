{
 "cells": [
  {
   "cell_type": "markdown",
   "metadata": {
    "colab_type": "text",
    "id": "eD5q--QijJRY"
   },
   "source": [
    "# Exercises 01: Probability and Matplotlib\n",
    "\n"
   ]
  },
  {
   "cell_type": "markdown",
   "metadata": {},
   "source": [
    "First, let us import our dependencies:"
   ]
  },
  {
   "cell_type": "code",
   "execution_count": 3,
   "metadata": {},
   "outputs": [],
   "source": [
    "import matplotlib\n",
    "import matplotlib.pyplot as plt\n",
    "import numpy as np"
   ]
  },
  {
   "cell_type": "markdown",
   "metadata": {},
   "source": [
    "## Exercise 1 - Die rolls"
   ]
  },
  {
   "cell_type": "code",
   "execution_count": 24,
   "metadata": {},
   "outputs": [],
   "source": [
    "def ones():\n",
    "    die = np.random.randint(1, high=7, size=10000)\n",
    "    return np.sum((die == 1))"
   ]
  },
  {
   "cell_type": "code",
   "execution_count": 31,
   "metadata": {},
   "outputs": [
    {
     "name": "stdout",
     "output_type": "stream",
     "text": [
      "Passed!\n"
     ]
    }
   ],
   "source": [
    "# Run this to test your code\n",
    "prob = (1/6)\n",
    "expected = 10000 * prob\n",
    "for i in range(100):\n",
    "    result = ones()\n",
    "    np.testing.assert_allclose(result, expected, rtol=1e-5, atol=200)\n",
    "print(\"Passed!\")"
   ]
  },
  {
   "cell_type": "markdown",
   "metadata": {},
   "source": [
    "## Exercise 2 - Plotting PDFs"
   ]
  },
  {
   "cell_type": "code",
   "execution_count": 68,
   "metadata": {},
   "outputs": [],
   "source": [
    "def plot(): \n",
    "    mean, std = 5, 10 # mean and standard deviation\n",
    "    s = np.random.normal(mean, std, 10000)\n",
    "    count, bins, ignored = plt.hist(s, 30, density=True, color='y')\n",
    "    plt.axvline(x=mean, color='tab:brown')\n",
    "\n",
    "    plt.axvline(x=mean+s.std(), color='c')\n",
    "    plt.axvline(x=mean-s.std(), color='c')\n",
    "\n",
    "\n",
    "    plt.show()"
   ]
  },
  {
   "cell_type": "code",
   "execution_count": 69,
   "metadata": {},
   "outputs": [
    {
     "data": {
      "image/png": "[encoded data removed]",
      "text/plain": [
       "<Figure size 432x288 with 1 Axes>"
      ]
     },
     "metadata": {
      "needs_background": "light"
     },
     "output_type": "display_data"
    }
   ],
   "source": [
    "# Run this to test your code (you will need to self-evaluate here or post a screenshot to an instructor)\n",
    "plot()"
   ]
  },
  {
   "cell_type": "markdown",
   "metadata": {
    "colab_type": "text",
    "id": "A0WUtVfFjXJW"
   },
   "source": [
    "## Exercise 3\n",
    "Fill in the function below to return the number of elements which are within 1 standard deviation of the mean of the passed in numpy array.\n",
    "\n",
    "\n",
    "\n"
   ]
  },
  {
   "cell_type": "code",
   "execution_count": 71,
   "metadata": {},
   "outputs": [],
   "source": [
    "def num_within_1_standard_deviation(arr):\n",
    "    mean = arr.mean()\n",
    "    std = arr.std()\n",
    "    return np.sum(((arr > (mean-std)) & (arr < (mean+std))))"
   ]
  },
  {
   "cell_type": "code",
   "execution_count": 72,
   "metadata": {},
   "outputs": [
    {
     "name": "stdout",
     "output_type": "stream",
     "text": [
      "Passed!\n"
     ]
    }
   ],
   "source": [
    "# Tests for above, run this to test your code\n",
    "mean, std = 0, 0.1\n",
    "n_elems = 10000\n",
    "arr = np.random.normal(mean, std, n_elems)\n",
    "\n",
    "np.testing.assert_allclose(num_within_1_standard_deviation(arr) / n_elems, 0.6827, rtol=1e-5, atol=0.01)\n",
    "print(\"Passed!\")"
   ]
  }
 ],
 "metadata": {
  "colab": {
   "authorship_tag": "ABX9TyMCUJHy4tx7rp6OVEwaYzdz",
   "include_colab_link": true,
   "name": "exercises_01_answers.ipynb",
   "provenance": []
  },
  "kernelspec": {
   "display_name": "Python 3",
   "language": "python",
   "name": "python3"
  },
  "language_info": {
   "codemirror_mode": {
    "name": "ipython",
    "version": 3
   },
   "file_extension": ".py",
   "mimetype": "text/x-python",
   "name": "python",
   "nbconvert_exporter": "python",
   "pygments_lexer": "ipython3",
   "version": "3.7.6"
  }
 },
 "nbformat": 4,
 "nbformat_minor": 1
}
