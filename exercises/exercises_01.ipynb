{
 "cells": [
  {
   "cell_type": "markdown",
   "metadata": {
    "colab_type": "text",
    "id": "eD5q--QijJRY"
   },
   "source": [
    "# Exercises 01: Probability and Matplotlib\n",
    "\n"
   ]
  },
  {
   "cell_type": "markdown",
   "metadata": {},
   "source": [
    "First, let us import our dependencies:"
   ]
  },
  {
   "cell_type": "code",
   "execution_count": null,
   "metadata": {},
   "outputs": [],
   "source": [
    "import matplotlib\n",
    "import matplotlib.pyplot as plt\n",
    "import numpy as np"
   ]
  },
  {
   "cell_type": "markdown",
   "metadata": {},
   "source": [
    "## Numpy Basics\n",
    "Numpy is a library used extensively by researchers with Python. It provides high-performance data structures and algorithms for common operations.\n",
    "\n",
    "We will go over some of the basics which will be used throughout this course.\n",
    "\n",
    "First, let us create a random array of 1000 integers between 0 and 9:"
   ]
  },
  {
   "cell_type": "code",
   "execution_count": null,
   "metadata": {},
   "outputs": [],
   "source": [
    "arr = np.random.randint(0, high=10, size=1000) # Note (low is inclusive and high is exclusive)\n",
    "arr.shape # The size of dimensions"
   ]
  },
  {
   "cell_type": "markdown",
   "metadata": {},
   "source": [
    "Generating data in a normal distribution:"
   ]
  },
  {
   "cell_type": "code",
   "execution_count": null,
   "metadata": {},
   "outputs": [],
   "source": [
    "mean = 10\n",
    "std = 5\n",
    "n = np.random.normal(mean, std, 10000)\n",
    "n.mean(), n.std()"
   ]
  },
  {
   "cell_type": "markdown",
   "metadata": {},
   "source": [
    "Get mean of array:"
   ]
  },
  {
   "cell_type": "code",
   "execution_count": null,
   "metadata": {},
   "outputs": [],
   "source": [
    "arr.mean()"
   ]
  },
  {
   "cell_type": "markdown",
   "metadata": {},
   "source": [
    "Get standard deviation of array:"
   ]
  },
  {
   "cell_type": "code",
   "execution_count": null,
   "metadata": {},
   "outputs": [],
   "source": [
    "arr.std()"
   ]
  },
  {
   "cell_type": "markdown",
   "metadata": {},
   "source": [
    "Find the number of entries in an array within a range:"
   ]
  },
  {
   "cell_type": "code",
   "execution_count": null,
   "metadata": {},
   "outputs": [],
   "source": [
    "np.sum(((arr > 4) & (arr < 8)))"
   ]
  },
  {
   "cell_type": "markdown",
   "metadata": {},
   "source": [
    "## Exercise 1 - Die rolls\n",
    "Simulate a die being rolled 10000 times and return the number of times the die rolled 1:"
   ]
  },
  {
   "cell_type": "code",
   "execution_count": null,
   "metadata": {},
   "outputs": [],
   "source": [
    "def ones():\n",
    "    # Your code here\n",
    "    raise NotImplementedError() # REMOVE THIS"
   ]
  },
  {
   "cell_type": "code",
   "execution_count": null,
   "metadata": {},
   "outputs": [],
   "source": [
    "# Run this to test your code\n",
    "prob = (1/6)\n",
    "expected = 10000 * prob\n",
    "for i in range(100):\n",
    "    result = ones()\n",
    "    np.testing.assert_allclose(result, expected, rtol=1e-5, atol=100)\n",
    "print(\"Passed!\")"
   ]
  },
  {
   "cell_type": "markdown",
   "metadata": {},
   "source": [
    "## Exercise 2 - Plotting PDFs\n",
    "Use numpy to generate data for a normal distribution with a mean of 5 and a standard deviation of 10. Plot a PDF of this data using matplotlib, colour the data in yellow and plotting the mean (in brown) and +/- 1 standard deviation (in cyan) as vertical lines. See slides_1 for examples of this and see [here](https://matplotlib.org/3.1.0/gallery/color/named_colors.html) for a list of colours."
   ]
  },
  {
   "cell_type": "code",
   "execution_count": null,
   "metadata": {},
   "outputs": [],
   "source": [
    "def plot():\n",
    "    # Your code here\n",
    "    raise NotImplementedError() # REMOVE THIS"
   ]
  },
  {
   "cell_type": "code",
   "execution_count": null,
   "metadata": {},
   "outputs": [],
   "source": [
    "# Run this to test your code (you will need to self-evaluate here or post a screenshot to an instructor)\n",
    "plot()"
   ]
  },
  {
   "cell_type": "markdown",
   "metadata": {
    "colab_type": "text",
    "id": "A0WUtVfFjXJW"
   },
   "source": [
    "## Exercise 3\n",
    "Fill in the function below to return the number of elements which are within 1 standard deviation of the mean of the passed in numpy array.\n",
    "\n",
    "\n",
    "\n"
   ]
  },
  {
   "cell_type": "code",
   "execution_count": null,
   "metadata": {},
   "outputs": [],
   "source": [
    "def num_within_1_standard_deviation(arr):\n",
    "    # Your code here\n",
    "    raise NotImplementedError() # REMOVE THIS"
   ]
  },
  {
   "cell_type": "code",
   "execution_count": null,
   "metadata": {},
   "outputs": [],
   "source": [
    "# Tests for above, run this to test your code\n",
    "mean, std = 0, 0.1\n",
    "n_elems = 10000\n",
    "arr = np.random.normal(mean, std, n_elems)\n",
    "\n",
    "np.testing.assert_allclose(num_within_1_standard_deviation(arr) / n_elems, 0.6827, rtol=1e-5, atol=0.01)\n",
    "print(\"Passed!\")"
   ]
  }
 ],
 "metadata": {
  "colab": {
   "authorship_tag": "ABX9TyMCUJHy4tx7rp6OVEwaYzdz",
   "include_colab_link": true,
   "name": "exercises_01.ipynb",
   "provenance": []
  },
  "kernelspec": {
   "display_name": "Python 3",
   "language": "python",
   "name": "python3"
  },
  "language_info": {
   "codemirror_mode": {
    "name": "ipython",
    "version": 3
   },
   "file_extension": ".py",
   "mimetype": "text/x-python",
   "name": "python",
   "nbconvert_exporter": "python",
   "pygments_lexer": "ipython3",
   "version": "3.7.6"
  }
 },
 "nbformat": 4,
 "nbformat_minor": 1
}
