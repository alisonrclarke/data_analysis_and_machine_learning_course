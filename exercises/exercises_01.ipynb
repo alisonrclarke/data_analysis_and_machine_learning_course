{
 "cells": [
  {
   "cell_type": "markdown",
   "metadata": {
    "colab_type": "text",
    "id": "view-in-github"
   },
   "source": [
    "<a href=\"https://colab.research.google.com/github/jonathanfrawley/data_analysis_and_machine_learning_course/blob/master/src/probability_intro.ipynb\" target=\"_parent\"><img src=\"https://colab.research.google.com/assets/colab-badge.svg\" alt=\"Open In Colab\"/></a>"
   ]
  },
  {
   "cell_type": "markdown",
   "metadata": {
    "colab_type": "text",
    "id": "eD5q--QijJRY"
   },
   "source": [
    "# Introduction to Probability\n",
    "\n"
   ]
  },
  {
   "cell_type": "code",
   "execution_count": 5,
   "metadata": {},
   "outputs": [],
   "source": [
    "import matplotlib\n",
    "import matplotlib.pyplot as plt\n",
    "import numpy as np"
   ]
  },
  {
   "cell_type": "markdown",
   "metadata": {
    "colab_type": "text",
    "id": "A0WUtVfFjXJW"
   },
   "source": [
    "## Exercise 1\n",
    "Fill in the function below to return the number of values within 1 standard deviation of the mean of the passed in numpy array.\n",
    "\n",
    "\n",
    "\n"
   ]
  },
  {
   "cell_type": "code",
   "execution_count": 2,
   "metadata": {},
   "outputs": [],
   "source": [
    "def num_within_1_standard_deviation(arr):\n",
    "    raise NotImplementedError() # Remove this"
   ]
  },
  {
   "cell_type": "code",
   "execution_count": 26,
   "metadata": {},
   "outputs": [],
   "source": [
    "def num_within_1_standard_deviation(arr):\n",
    "    mean = arr.mean()\n",
    "    std = arr.std()\n",
    "    #return np.sum(arr[np.where(((arr > (mean-std)) & (arr < (mean-std)), True, False))])\n",
    "    return np.sum(((arr > (mean-std)) & (arr < (mean+std))))"
   ]
  },
  {
   "cell_type": "code",
   "execution_count": 35,
   "metadata": {},
   "outputs": [],
   "source": [
    "# Tests for above\n",
    "mean, std = 0, 0.1\n",
    "n_elems = 10000\n",
    "arr = np.random.normal(mean, std, n_elems)\n",
    "\n",
    "np.testing.assert_allclose(num_within_1_standard_deviation(arr) / n_elems, 0.6827, rtol=1e-5, atol=0.01)"
   ]
  },
  {
   "cell_type": "code",
   "execution_count": 25,
   "metadata": {},
   "outputs": [
    {
     "data": {
      "text/plain": [
       "6838"
      ]
     },
     "execution_count": 25,
     "metadata": {},
     "output_type": "execute_result"
    }
   ],
   "source": [
    "mean, std = 0, 0.1\n",
    "n_elems = 10000\n",
    "arr = np.random.normal(mean, std, n_elems)\n",
    "\n",
    "mean = arr.mean()\n",
    "std = arr.std()\n",
    "#return np.sum(arr[np.where(((arr > (mean-std)) & (arr < (mean-std)), True, False))])\n"
   ]
  },
  {
   "cell_type": "markdown",
   "metadata": {
    "colab_type": "text",
    "id": "lQop94aijUkQ"
   },
   "source": [
    "## Probability Density function (PDF)"
   ]
  }
 ],
 "metadata": {
  "colab": {
   "authorship_tag": "ABX9TyMCUJHy4tx7rp6OVEwaYzdz",
   "include_colab_link": true,
   "name": "probability_intro.ipynb",
   "provenance": []
  },
  "kernelspec": {
   "display_name": "Python 3",
   "language": "python",
   "name": "python3"
  },
  "language_info": {
   "codemirror_mode": {
    "name": "ipython",
    "version": 3
   },
   "file_extension": ".py",
   "mimetype": "text/x-python",
   "name": "python",
   "nbconvert_exporter": "python",
   "pygments_lexer": "ipython3",
   "version": "3.7.6"
  }
 },
 "nbformat": 4,
 "nbformat_minor": 1
}
