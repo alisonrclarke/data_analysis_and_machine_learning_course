{
 "cells": [
  {
   "cell_type": "markdown",
   "metadata": {},
   "source": [
    "# Exercises 02: Analysing IMDB Dataset using Pandas"
   ]
  },
  {
   "cell_type": "code",
   "execution_count": null,
   "metadata": {
    "colab": {},
    "colab_type": "code",
    "id": "bpUAz479uZvL"
   },
   "outputs": [],
   "source": [
    "import pandas as pd\n",
    "\n",
    "# From: https://www.kaggle.com/carolzhangdc/imdb-5000-movie-dataset/data\n",
    "url = \"https://raw.githubusercontent.com/jonathanfrawley/data_analysis_and_machine_learning_course/master/data/movie_metadata.csv\"\n",
    "c = pd.read_csv(url)"
   ]
  },
  {
   "cell_type": "code",
   "execution_count": null,
   "metadata": {
    "colab": {
     "base_uri": "https://localhost:8080/",
     "height": 843
    },
    "colab_type": "code",
    "id": "HV_WmRjjvGZT",
    "outputId": "94192efc-3b2f-4c1f-9387-c4305f4f7118"
   },
   "outputs": [],
   "source": [
    "c"
   ]
  },
  {
   "cell_type": "markdown",
   "metadata": {},
   "source": [
    "## Example Usage:"
   ]
  },
  {
   "cell_type": "markdown",
   "metadata": {
    "colab_type": "text",
    "id": "L44V40IU4cD-"
   },
   "source": [
    "How many films has Steven Spielberg directed?"
   ]
  },
  {
   "cell_type": "code",
   "execution_count": null,
   "metadata": {
    "colab": {
     "base_uri": "https://localhost:8080/",
     "height": 34
    },
    "colab_type": "code",
    "id": "0ddQHGCd4iUb",
    "outputId": "3871eef4-b33a-4c08-9014-3796af37b591"
   },
   "outputs": [],
   "source": [
    "spielberg_films = c[c['director_name'] == 'Steven Spielberg']\n",
    "len(spielberg_films)"
   ]
  },
  {
   "cell_type": "markdown",
   "metadata": {
    "colab_type": "text",
    "id": "EFvING_v45hA"
   },
   "source": [
    "What is Steven Spielberg's highest grossing film?"
   ]
  },
  {
   "cell_type": "code",
   "execution_count": null,
   "metadata": {
    "colab": {
     "base_uri": "https://localhost:8080/",
     "height": 34
    },
    "colab_type": "code",
    "id": "rHDjfTFV48Yv",
    "outputId": "607f50f4-1d2e-40c3-9256-eccdcd5045cc"
   },
   "outputs": [],
   "source": [
    "spielberg_films.sort_values('gross', ascending=False).iloc[0]['movie_title'].strip()"
   ]
  },
  {
   "cell_type": "markdown",
   "metadata": {
    "colab_type": "text",
    "id": "cCiF63uI8iMc"
   },
   "source": [
    "Graphing how much money Steven Spielberg films have made over time:"
   ]
  },
  {
   "cell_type": "code",
   "execution_count": null,
   "metadata": {
    "colab": {},
    "colab_type": "code",
    "id": "nV9dNOl-88wt"
   },
   "outputs": [],
   "source": [
    "#ts = spielberg_films.loc['title_year', 'gross']\n",
    "spielberg_films = spielberg_films.dropna(how='any')\n",
    "\n",
    "import matplotlib.pyplot as plt\n",
    "plt.close('all')\n",
    "#ts = spielberg_films[['title_year', 'gross']]\n",
    "spielberg_films['title_year'] = spielberg_films['title_year'].astype('int32')\n",
    "spielberg_films['gross'] = spielberg_films['gross'].astype('int32')\n",
    "spielberg_films = spielberg_films.sort_values('title_year')\n",
    "#spielberg_films.plot.bar(x='title_year', y='gross', style='o')\n",
    "#ts.plot()\n",
    "#spielberg_films['gross'] = spielberg_films[spielberg_films['gross'].notnull()]"
   ]
  },
  {
   "cell_type": "code",
   "execution_count": null,
   "metadata": {
    "colab": {
     "base_uri": "https://localhost:8080/",
     "height": 728
    },
    "colab_type": "code",
    "id": "fa7lprDc-OgX",
    "outputId": "4d15b53b-b8eb-4588-9245-2c1e3a21e47a"
   },
   "outputs": [],
   "source": [
    "spielberg_films_by_title_year = spielberg_films.groupby('title_year').sum()\n",
    "spielberg_films_by_title_year"
   ]
  },
  {
   "cell_type": "code",
   "execution_count": null,
   "metadata": {
    "colab": {
     "base_uri": "https://localhost:8080/",
     "height": 279
    },
    "colab_type": "code",
    "id": "bv1GAp0L-f9U",
    "outputId": "caaa4517-bf21-4e2d-eb31-b1535c264970"
   },
   "outputs": [],
   "source": [
    "# Convert to units of millions of dollars\n",
    "spielberg_films['gross'] = spielberg_films['gross'] / 1000000\n",
    "\n",
    "import matplotlib.pyplot as plt\n",
    "plt.plot(spielberg_films_by_title_year.index, spielberg_films_by_title_year['gross'])\n",
    "plt.xlabel('Year')\n",
    "plt.ylabel('Gross (Million $)')\n",
    "plt.ticklabel_format(style='plain')\n",
    "plt.show()"
   ]
  },
  {
   "cell_type": "markdown",
   "metadata": {
    "colab_type": "text",
    "id": "hkGPGC9QQoMh"
   },
   "source": [
    "Maybe we could make it look a bit better by smoothing the data a bit?"
   ]
  },
  {
   "cell_type": "code",
   "execution_count": null,
   "metadata": {
    "colab": {
     "base_uri": "https://localhost:8080/",
     "height": 276
    },
    "colab_type": "code",
    "id": "kIYQICV7JUeA",
    "outputId": "b06ad025-1bd9-4ede-e64a-6bc1e9a0f1e9"
   },
   "outputs": [],
   "source": [
    "from scipy.interpolate import make_interp_spline, BSpline\n",
    "import numpy as np\n",
    "\n",
    "x = spielberg_films_by_title_year.index.to_numpy()\n",
    "y = spielberg_films_by_title_year['gross'].to_numpy()\n",
    "\n",
    "xnew = np.linspace(x.min(), x.max(), 300) \n",
    "spl = make_interp_spline(x, y, k=3)  # type: BSpline\n",
    "power_smooth = spl(xnew)\n",
    "\n",
    "plt.plot(xnew, power_smooth)\n",
    "plt.show()"
   ]
  },
  {
   "cell_type": "markdown",
   "metadata": {
    "colab_type": "text",
    "id": "xpG2cxgbKSVi"
   },
   "source": [
    "## Exercise 1\n",
    "What is, the director, David Lynch's highest grossing film?\n",
    "\n",
    "Fill in the following function and then run the assert to test your solution:"
   ]
  },
  {
   "cell_type": "code",
   "execution_count": null,
   "metadata": {
    "colab": {
     "base_uri": "https://localhost:8080/",
     "height": 132
    },
    "colab_type": "code",
    "id": "afwQWXJSKQO3",
    "outputId": "eca85da7-ce96-4e26-ee25-19fe429ede91"
   },
   "outputs": [],
   "source": [
    "# TODO\n",
    "def highest_grossing_david_lynch_film():\n",
    "    # ..."
   ]
  },
  {
   "cell_type": "code",
   "execution_count": null,
   "metadata": {
    "colab": {},
    "colab_type": "code",
    "id": "baBIyrJnKfNr"
   },
   "outputs": [],
   "source": [
    "assert(highest_grossing_david_lynch_film() == 'Dune')\n",
    "print(\"Passed!\")"
   ]
  },
  {
   "cell_type": "markdown",
   "metadata": {
    "colab_type": "text",
    "id": "fdDddtX40WFO"
   },
   "source": [
    "## Exercise 2\n",
    "Which director's films have grossed the most?\n",
    "\n",
    "Fill in the following function and then run the assert to test your solution:"
   ]
  },
  {
   "cell_type": "code",
   "execution_count": null,
   "metadata": {
    "colab": {},
    "colab_type": "code",
    "id": "-AYT5Lot0hVA"
   },
   "outputs": [],
   "source": [
    "def highest_grossing_director():\n",
    "    # ...\n"
   ]
  },
  {
   "cell_type": "code",
   "execution_count": null,
   "metadata": {
    "colab": {},
    "colab_type": "code",
    "id": "eAxo7TWR17qd"
   },
   "outputs": [],
   "source": [
    "assert(highest_grossing_director() == 'Steven Spielberg')\n",
    "print(\"Passed!\")"
   ]
  },
  {
   "cell_type": "markdown",
   "metadata": {
    "colab_type": "text",
    "id": "l67XAS_o262U"
   },
   "source": [
    "## Exercise 3\n",
    "Which director who has more than three films, has the most consistent movie score on IMDB?\n",
    "\n",
    "Hint: Standard deviation (.std()) shows how variable a distribution is\n",
    "\n",
    "Fill in the following function and then run the assert to test your solution:\n"
   ]
  },
  {
   "cell_type": "code",
   "execution_count": null,
   "metadata": {
    "colab": {},
    "colab_type": "code",
    "id": "fJiQmjBD4PrX"
   },
   "outputs": [],
   "source": [
    "def most_consistent_director():\n",
    "    # ..."
   ]
  },
  {
   "cell_type": "code",
   "execution_count": null,
   "metadata": {
    "colab": {
     "base_uri": "https://localhost:8080/",
     "height": 34
    },
    "colab_type": "code",
    "id": "n_m1vXzU4hLW",
    "outputId": "3aaa4c6c-c755-4d20-e228-a5110157ea17"
   },
   "outputs": [],
   "source": [
    "assert(most_consistent_director() == 'Tim Johnson')\n",
    "print(\"Passed!\")"
   ]
  }
 ],
 "metadata": {
  "colab": {
   "include_colab_link": true,
   "name": "exercises_02.ipynb",
   "provenance": []
  },
  "kernelspec": {
   "display_name": "Python 3",
   "language": "python",
   "name": "python3"
  },
  "language_info": {
   "codemirror_mode": {
    "name": "ipython",
    "version": 3
   },
   "file_extension": ".py",
   "mimetype": "text/x-python",
   "name": "python",
   "nbconvert_exporter": "python",
   "pygments_lexer": "ipython3",
   "version": "3.7.6"
  }
 },
 "nbformat": 4,
 "nbformat_minor": 1
}
