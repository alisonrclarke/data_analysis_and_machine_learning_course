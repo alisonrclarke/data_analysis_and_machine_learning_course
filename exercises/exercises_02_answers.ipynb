{
 "cells": [
  {
   "cell_type": "markdown",
   "metadata": {},
   "source": [
    "# Exercises 02 Answers: Analysing IMDB Dataset using Pandas"
   ]
  },
  {
   "cell_type": "code",
   "execution_count": 1,
   "metadata": {
    "colab": {},
    "colab_type": "code",
    "id": "bpUAz479uZvL"
   },
   "outputs": [],
   "source": [
    "import pandas as pd\n",
    "\n",
    "# From: https://www.kaggle.com/carolzhangdc/imdb-5000-movie-dataset/data\n",
    "url = \"https://raw.githubusercontent.com/jonathanfrawley/data_analysis_and_machine_learning_course/master/data/movie_metadata.csv\"\n",
    "c = pd.read_csv(url)"
   ]
  },
  {
   "cell_type": "markdown",
   "metadata": {
    "colab_type": "text",
    "id": "xpG2cxgbKSVi"
   },
   "source": [
    "## Exercise 1"
   ]
  },
  {
   "cell_type": "code",
   "execution_count": 2,
   "metadata": {
    "colab": {},
    "colab_type": "code",
    "id": "qdoifHpnKmQ2"
   },
   "outputs": [],
   "source": [
    "def highest_grossing_david_lynch_film():\n",
    "    david_lynch_films = c[c['director_name'] == 'David Lynch']\n",
    "    ordered_by_gross = david_lynch_films.sort_values('gross', ascending=False)\n",
    "    return ordered_by_gross['movie_title'].iloc[0].strip()"
   ]
  },
  {
   "cell_type": "code",
   "execution_count": 3,
   "metadata": {
    "colab": {},
    "colab_type": "code",
    "id": "baBIyrJnKfNr"
   },
   "outputs": [
    {
     "name": "stdout",
     "output_type": "stream",
     "text": [
      "Passed!\n"
     ]
    }
   ],
   "source": [
    "assert(highest_grossing_david_lynch_film() == 'Dune')\n",
    "print(\"Passed!\")"
   ]
  },
  {
   "cell_type": "markdown",
   "metadata": {
    "colab_type": "text",
    "id": "fdDddtX40WFO"
   },
   "source": [
    "## Exercise 2"
   ]
  },
  {
   "cell_type": "code",
   "execution_count": 4,
   "metadata": {
    "colab": {},
    "colab_type": "code",
    "id": "C3Z_wP_Z1vGK"
   },
   "outputs": [],
   "source": [
    "def highest_grossing_director():\n",
    "    summed = c[['director_name', 'gross']].groupby('director_name').sum()\n",
    "    return summed.sort_values('gross', ascending=False).index[0]"
   ]
  },
  {
   "cell_type": "code",
   "execution_count": 5,
   "metadata": {
    "colab": {},
    "colab_type": "code",
    "id": "eAxo7TWR17qd"
   },
   "outputs": [
    {
     "name": "stdout",
     "output_type": "stream",
     "text": [
      "Passed!\n"
     ]
    }
   ],
   "source": [
    "assert(highest_grossing_director() == 'Steven Spielberg')\n",
    "print(\"Passed!\")"
   ]
  },
  {
   "cell_type": "markdown",
   "metadata": {
    "colab_type": "text",
    "id": "l67XAS_o262U"
   },
   "source": [
    "## Exercise 3"
   ]
  },
  {
   "cell_type": "code",
   "execution_count": 6,
   "metadata": {
    "colab": {},
    "colab_type": "code",
    "id": "WexxWjmW4kEd"
   },
   "outputs": [],
   "source": [
    "def most_consistent_director():\n",
    "    director_groups = c.groupby('director_name')\n",
    "    director_groups_over_three_films = director_groups.filter(lambda x: len(x) > 3)\n",
    "    imdb_scores = director_groups_over_three_films.groupby('director_name')['imdb_score']\n",
    "    return imdb_scores.std().sort_values(ascending=True).index[0]"
   ]
  },
  {
   "cell_type": "code",
   "execution_count": 7,
   "metadata": {
    "colab": {
     "base_uri": "https://localhost:8080/",
     "height": 34
    },
    "colab_type": "code",
    "id": "n_m1vXzU4hLW",
    "outputId": "3aaa4c6c-c755-4d20-e228-a5110157ea17"
   },
   "outputs": [
    {
     "name": "stdout",
     "output_type": "stream",
     "text": [
      "Passed!\n"
     ]
    }
   ],
   "source": [
    "assert(most_consistent_director() == 'Tim Johnson')\n",
    "print(\"Passed!\")"
   ]
  }
 ],
 "metadata": {
  "colab": {
   "include_colab_link": true,
   "name": "exercises_02_answers.ipynb",
   "provenance": []
  },
  "kernelspec": {
   "display_name": "Python 3",
   "language": "python",
   "name": "python3"
  },
  "language_info": {
   "codemirror_mode": {
    "name": "ipython",
    "version": 3
   },
   "file_extension": ".py",
   "mimetype": "text/x-python",
   "name": "python",
   "nbconvert_exporter": "python",
   "pygments_lexer": "ipython3",
   "version": "3.7.6"
  }
 },
 "nbformat": 4,
 "nbformat_minor": 1
}
