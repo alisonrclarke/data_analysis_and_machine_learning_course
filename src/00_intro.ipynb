{
  "nbformat": 4,
  "nbformat_minor": 0,
  "metadata": {
    "celltoolbar": "Tags",
    "kernelspec": {
      "display_name": "Python 3",
      "language": "python",
      "name": "python3"
    },
    "language_info": {
      "codemirror_mode": {
        "name": "ipython",
        "version": 3
      },
      "file_extension": ".py",
      "mimetype": "text/x-python",
      "name": "python",
      "nbconvert_exporter": "python",
      "pygments_lexer": "ipython3",
      "version": "3.7.6"
    },
    "colab": {
      "name": "00_intro.ipynb",
      "provenance": [],
      "include_colab_link": true
    }
  },
  "cells": [
    {
      "cell_type": "markdown",
      "metadata": {
        "id": "view-in-github",
        "colab_type": "text"
      },
      "source": [
        "<a href=\"https://colab.research.google.com/github/jonathanfrawley/data_analysis_and_machine_learning_course/blob/master/src/00_intro.ipynb\" target=\"_parent\"><img src=\"https://colab.research.google.com/assets/colab-badge.svg\" alt=\"Open In Colab\"/></a>"
      ]
    },
    {
      "cell_type": "markdown",
      "metadata": {
        "id": "uI3VuBMyXNJA",
        "colab_type": "text"
      },
      "source": [
        "# Plotting Data\n",
        "*By Jonathan Frawley, Advanced Research Computing, Durham University*"
      ]
    },
    {
      "cell_type": "markdown",
      "metadata": {
        "id": "hcTn5ERKZ1eb",
        "colab_type": "text"
      },
      "source": [
        "We are going to look at plotting of date using a library called [Matplotlib](https://matplotlib.org/). It is a widely used, very flexible and is capable of producing publication-quality plots."
      ]
    },
    {
      "cell_type": "markdown",
      "metadata": {
        "id": "Rqm1bx2daaWD",
        "colab_type": "text"
      },
      "source": [
        "## Hello Plot"
      ]
    },
    {
      "cell_type": "markdown",
      "metadata": {
        "id": "ebzA6GLza5Nw",
        "colab_type": "text"
      },
      "source": [
        "We first need to import our dependencies:"
      ]
    },
    {
      "cell_type": "code",
      "metadata": {
        "id": "S9sYHVbXZhTv",
        "colab_type": "code",
        "colab": {}
      },
      "source": [
        "import matplotlib\n",
        "import matplotlib.pyplot as plt\n",
        "import numpy as np"
      ],
      "execution_count": 0,
      "outputs": []
    },
    {
      "cell_type": "markdown",
      "metadata": {
        "id": "xPZB0_29bCCe",
        "colab_type": "text"
      },
      "source": [
        "Next, we generate some sample data for plotting, based on a sin wave:\n",
        "\n",
        "---\n",
        "\n"
      ]
    },
    {
      "cell_type": "code",
      "metadata": {
        "id": "yukCaDHeaqB1",
        "colab_type": "code",
        "colab": {}
      },
      "source": [
        "# Data for plotting\n",
        "x_data = np.arange(0.0, 2.0, 0.01)\n",
        "y_data = 1 + np.sin(2 * np.pi * t)"
      ],
      "execution_count": 0,
      "outputs": []
    },
    {
      "cell_type": "markdown",
      "metadata": {
        "id": "ADH6Rk4YbZbG",
        "colab_type": "text"
      },
      "source": [
        "Next, we setup the plots. You can setup multiple subplots but here we just setup a single plot. Then we set the labels and title of the plot. Finally, we show it:"
      ]
    },
    {
      "cell_type": "code",
      "metadata": {
        "id": "vUopHoILaqzM",
        "colab_type": "code",
        "colab": {
          "base_uri": "https://localhost:8080/",
          "height": 295
        },
        "outputId": "05a952f3-0609-4015-9c2d-57ab9cdb97e5"
      },
      "source": [
        "fig, ax = plt.subplots()\n",
        "ax.plot(t, s)\n",
        "ax.set(xlabel='time (s)', ylabel='voltage (mV)',\n",
        "       title='About as simple as it gets, folks')\n",
        "plt.show()"
      ],
      "execution_count": 19,
      "outputs": [
        {
          "output_type": "display_data",
          "data": {
            "image/png": "[encoded data removed]",
            "text/plain": [
              "<Figure size 432x288 with 1 Axes>"
            ]
          },
          "metadata": {
            "tags": []
          }
        }
      ]
    }
  ]
}