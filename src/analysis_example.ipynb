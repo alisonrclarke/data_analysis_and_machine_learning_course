{
  "nbformat": 4,
  "nbformat_minor": 0,
  "metadata": {
    "colab": {
      "name": "analysis_example.ipynb",
      "provenance": [],
      "authorship_tag": "ABX9TyOHbbTNafubG9FBoppaaDvN",
      "include_colab_link": true
    },
    "kernelspec": {
      "name": "python3",
      "display_name": "Python 3"
    }
  },
  "cells": [
    {
      "cell_type": "markdown",
      "metadata": {
        "id": "view-in-github",
        "colab_type": "text"
      },
      "source": [
        "<a href=\"https://colab.research.google.com/github/jonathanfrawley/data_analysis_and_machine_learning_course/blob/master/analysis_example.ipynb\" target=\"_parent\"><img src=\"https://colab.research.google.com/assets/colab-badge.svg\" alt=\"Open In Colab\"/></a>"
      ]
    },
    {
      "cell_type": "code",
      "metadata": {
        "id": "bpUAz479uZvL",
        "colab_type": "code",
        "colab": {}
      },
      "source": [
        "import pandas as pd\n",
        "\n",
        "url = \"https://data.yorkopendata.org/dataset/d2251771-3ea7-4bf2-ba5c-2d036df573b4/resource/0db2940c-0d57-48b4-a50c-be05e3ab0e37/download/kpi-hlth05a.csv\"\n",
        "c = pd.read_csv(url)"
      ],
      "execution_count": 0,
      "outputs": []
    },
    {
      "cell_type": "code",
      "metadata": {
        "id": "HV_WmRjjvGZT",
        "colab_type": "code",
        "colab": {
          "base_uri": "https://localhost:8080/",
          "height": 81
        },
        "outputId": "05ece92e-1b43-431f-86af-d577fc1d9618"
      },
      "source": [
        "c"
      ],
      "execution_count": 13,
      "outputs": [
        {
          "output_type": "execute_result",
          "data": {
            "text/html": [
              "<div>\n",
              "<style scoped>\n",
              "    .dataframe tbody tr th:only-of-type {\n",
              "        vertical-align: middle;\n",
              "    }\n",
              "\n",
              "    .dataframe tbody tr th {\n",
              "        vertical-align: top;\n",
              "    }\n",
              "\n",
              "    .dataframe thead th {\n",
              "        text-align: right;\n",
              "    }\n",
              "</style>\n",
              "<table border=\"1\" class=\"dataframe\">\n",
              "  <thead>\n",
              "    <tr style=\"text-align: right;\">\n",
              "      <th></th>\n",
              "      <th>KpiId</th>\n",
              "      <th>KpiName</th>\n",
              "      <th>Value</th>\n",
              "      <th>DataType</th>\n",
              "      <th>Period</th>\n",
              "      <th>StartDate</th>\n",
              "      <th>EndDate</th>\n",
              "      <th>CollectionFrequency</th>\n",
              "    </tr>\n",
              "  </thead>\n",
              "  <tbody>\n",
              "    <tr>\n",
              "      <th>0</th>\n",
              "      <td>HLTH05a</td>\n",
              "      <td>Obese adults (%)</td>\n",
              "      <td>23.00 %</td>\n",
              "      <td>Percentage</td>\n",
              "      <td>2014/2015</td>\n",
              "      <td>2014-04-01</td>\n",
              "      <td>2015-03-31</td>\n",
              "      <td>Annual</td>\n",
              "    </tr>\n",
              "  </tbody>\n",
              "</table>\n",
              "</div>"
            ],
            "text/plain": [
              "     KpiId           KpiName  ...     EndDate CollectionFrequency\n",
              "0  HLTH05a  Obese adults (%)  ...  2015-03-31              Annual\n",
              "\n",
              "[1 rows x 8 columns]"
            ]
          },
          "metadata": {
            "tags": []
          },
          "execution_count": 13
        }
      ]
    },
    {
      "cell_type": "code",
      "metadata": {
        "id": "KmaFjISIvmD5",
        "colab_type": "code",
        "colab": {}
      },
      "source": [
        ""
      ],
      "execution_count": 0,
      "outputs": []
    }
  ]
}