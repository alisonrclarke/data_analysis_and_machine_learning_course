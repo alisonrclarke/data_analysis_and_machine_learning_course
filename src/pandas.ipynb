{
  "nbformat": 4,
  "nbformat_minor": 0,
  "metadata": {
    "celltoolbar": "Tags",
    "kernelspec": {
      "display_name": "Python 3",
      "language": "python",
      "name": "python3"
    },
    "language_info": {
      "codemirror_mode": {
        "name": "ipython",
        "version": 3
      },
      "file_extension": ".py",
      "mimetype": "text/x-python",
      "name": "python",
      "nbconvert_exporter": "python",
      "pygments_lexer": "ipython3",
      "version": "3.7.6"
    },
  },
  "cells": [
    {
      "cell_type": "markdown",
      "metadata": {
        "id": "uI3VuBMyXNJA",
        "colab_type": "text"
      },
      "source": [
        "# Pandas \n",
        "*By Jonathan Frawley, Advanced Research Computing, Durham University*"
      ]
    },
    {
      "cell_type": "markdown",
      "metadata": {
        "id": "hcTn5ERKZ1eb",
        "colab_type": "text"
      },
      "source": [
        "We are going to look at parsing datasets using CSV with a library called [Pandas](https://pandas.pydata.org/). \n",
        "\n",
        "First, we import our dependencies:"
      ]
    },
    {
      "cell_type": "code",
      "metadata": {
        "id": "S9sYHVbXZhTv",
        "colab_type": "code",
        "colab": {}
      },
      "source": [
        "import numpy as np\n",
        "import pandas as pd\n",
        "from io import StringIO"
      ],
      "execution_count": 0,
      "outputs": []
    },
    {
      "cell_type": "markdown",
      "metadata": {
        "id": "Rqm1bx2daaWD",
        "colab_type": "text"
      },
      "source": [
        "## Parsing CSV"
      ]
    },
    {
      "cell_type": "markdown",
      "metadata": {
        "id": "WaOfWfEjwRK-",
        "colab_type": "text"
      },
      "source": [
        "Here, we read in a simple CSV file:"
      ]
    },
    {
      "cell_type": "code",
      "metadata": {
        "id": "LuItzJSftPhE",
        "colab_type": "code",
        "colab": {
          "base_uri": "https://localhost:8080/",
          "height": 175
        },
        "outputId": "cf69dfd2-d40f-4b85-9e44-01728d85a763"
      },
      "source": [
        "csv_string_file = StringIO(\"\"\"name,age,course\n",
        "Muire,23,Computer Science\n",
        "Seán,19,Computer Science\n",
        "Saoirse,17,English\n",
        "Niamh,19,Mathematics\n",
        "\"\"\")\n",
        "csv = pd.read_csv(csv_string_file)\n",
        "csv"
      ],
      "execution_count": 24,
      "outputs": [
        {
          "output_type": "execute_result",
          "data": {
            "text/html": [
              "<div>\n",
              "<style scoped>\n",
              "    .dataframe tbody tr th:only-of-type {\n",
              "        vertical-align: middle;\n",
              "    }\n",
              "\n",
              "    .dataframe tbody tr th {\n",
              "        vertical-align: top;\n",
              "    }\n",
              "\n",
              "    .dataframe thead th {\n",
              "        text-align: right;\n",
              "    }\n",
              "</style>\n",
              "<table border=\"1\" class=\"dataframe\">\n",
              "  <thead>\n",
              "    <tr style=\"text-align: right;\">\n",
              "      <th></th>\n",
              "      <th>name</th>\n",
              "      <th>age</th>\n",
              "      <th>course</th>\n",
              "    </tr>\n",
              "  </thead>\n",
              "  <tbody>\n",
              "    <tr>\n",
              "      <th>0</th>\n",
              "      <td>Muire</td>\n",
              "      <td>23</td>\n",
              "      <td>Computer Science</td>\n",
              "    </tr>\n",
              "    <tr>\n",
              "      <th>1</th>\n",
              "      <td>Seán</td>\n",
              "      <td>19</td>\n",
              "      <td>Computer Science</td>\n",
              "    </tr>\n",
              "    <tr>\n",
              "      <th>2</th>\n",
              "      <td>Saoirse</td>\n",
              "      <td>17</td>\n",
              "      <td>English</td>\n",
              "    </tr>\n",
              "    <tr>\n",
              "      <th>3</th>\n",
              "      <td>Niamh</td>\n",
              "      <td>19</td>\n",
              "      <td>Mathematics</td>\n",
              "    </tr>\n",
              "  </tbody>\n",
              "</table>\n",
              "</div>"
            ],
            "text/plain": [
              "      name  age            course\n",
              "0    Muire   23  Computer Science\n",
              "1     Seán   19  Computer Science\n",
              "2  Saoirse   17           English\n",
              "3    Niamh   19       Mathematics"
            ]
          },
          "metadata": {
            "tags": []
          },
          "execution_count": 24
        }
      ]
    },
    {
      "cell_type": "markdown",
      "metadata": {
        "id": "o8tS8cMCwsGs",
        "colab_type": "text"
      },
      "source": [
        "Now, say we wanted all of the students who studied Computer Science:"
      ]
    },
    {
      "cell_type": "code",
      "metadata": {
        "id": "vgebKXT-v6oe",
        "colab_type": "code",
        "colab": {
          "base_uri": "https://localhost:8080/",
          "height": 112
        },
        "outputId": "dd0e3f0b-89b6-4a0b-9c74-ae125ab16d05"
      },
      "source": [
        "csv[csv['course']=='Computer Science']"
      ],
      "execution_count": 25,
      "outputs": [
        {
          "output_type": "execute_result",
          "data": {
            "text/html": [
              "<div>\n",
              "<style scoped>\n",
              "    .dataframe tbody tr th:only-of-type {\n",
              "        vertical-align: middle;\n",
              "    }\n",
              "\n",
              "    .dataframe tbody tr th {\n",
              "        vertical-align: top;\n",
              "    }\n",
              "\n",
              "    .dataframe thead th {\n",
              "        text-align: right;\n",
              "    }\n",
              "</style>\n",
              "<table border=\"1\" class=\"dataframe\">\n",
              "  <thead>\n",
              "    <tr style=\"text-align: right;\">\n",
              "      <th></th>\n",
              "      <th>name</th>\n",
              "      <th>age</th>\n",
              "      <th>course</th>\n",
              "    </tr>\n",
              "  </thead>\n",
              "  <tbody>\n",
              "    <tr>\n",
              "      <th>0</th>\n",
              "      <td>Muire</td>\n",
              "      <td>23</td>\n",
              "      <td>Computer Science</td>\n",
              "    </tr>\n",
              "    <tr>\n",
              "      <th>1</th>\n",
              "      <td>Seán</td>\n",
              "      <td>19</td>\n",
              "      <td>Computer Science</td>\n",
              "    </tr>\n",
              "  </tbody>\n",
              "</table>\n",
              "</div>"
            ],
            "text/plain": [
              "    name  age            course\n",
              "0  Muire   23  Computer Science\n",
              "1   Seán   19  Computer Science"
            ]
          },
          "metadata": {
            "tags": []
          },
          "execution_count": 25
        }
      ]
    },
    {
      "cell_type": "markdown",
      "metadata": {
        "id": "ZoPNq2KKxRGU",
        "colab_type": "text"
      },
      "source": [
        "##Resources\n",
        " * [10 minutes intro to Pandas](https://pandas.pydata.org/pandas-docs/stable/getting_started/10min.html)\n",
        "\n",
        "\n"
      ]
    },
    {
      "cell_type": "code",
      "metadata": {
        "id": "3cxDE-mexbpo",
        "colab_type": "code",
        "colab": {}
      },
      "source": [
        ""
      ],
      "execution_count": 0,
      "outputs": []
    }
  ]
}
