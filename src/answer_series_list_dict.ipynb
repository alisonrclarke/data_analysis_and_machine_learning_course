{
 "cells": [
  {
   "cell_type": "markdown",
   "metadata": {},
   "source": [
    "## `Series` against `dict`:\n",
    "\n",
    "Similarities:\n",
    "\n",
    "- Access by any kind of key\n",
    "\n",
    "Differences:\n",
    "\n",
    "- `Series` is ordered where `dict`s are not\n",
    "- `Series` can have repeated indices\n",
    "- The data inside is stored with a `dtype` which makes things faster\n",
    "\n",
    "## `Series` against `list`\n",
    "\n",
    "Similarities:\n",
    "\n",
    "- The data inside has an order\n",
    "- Can index by integer\n",
    "\n",
    "Differences:\n",
    "\n",
    "- Even is indexed by integer, the index does not denote position necessarily\n",
    "- Can index by any kind of key in principle\n",
    "- The data inside is stored with a `dtype` which makes things faster"
   ]
  }
 ],
 "metadata": {
  "kernelspec": {
   "display_name": "Python 3",
   "language": "python",
   "name": "python3"
  },
  "language_info": {
   "codemirror_mode": {
    "name": "ipython",
    "version": 3
   },
   "file_extension": ".py",
   "mimetype": "text/x-python",
   "name": "python",
   "nbconvert_exporter": "python",
   "pygments_lexer": "ipython3",
   "version": "3.7.3"
  }
 },
 "nbformat": 4,
 "nbformat_minor": 4
}
