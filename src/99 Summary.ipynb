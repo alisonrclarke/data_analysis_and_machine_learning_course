{
 "cells": [
  {
   "cell_type": "markdown",
   "metadata": {},
   "source": [
    "# Summary\n",
    "\n",
    "This course has given you a brief introduction to the tools that can help you read in, analyse and plot your data.\n",
    "\n",
    "Once you're happy with the concepts in this course, you may want to look at the [Applied Data Analysis in Python](https://milliams.gitlab.io/applied_data_analysis/) course.\n",
    "\n",
    "## Credits\n",
    "\n",
    "This course was written by Matt Williams. All text is published under a [Creative Commons Attribution 4.0 International\n",
    "License](https://creativecommons.org/licenses/by/4.0/) with all code snippets licensed as MIT.\n",
    "\n",
    "The source for the material can be found on [GitLab](https://gitlab.com/milliams/data_analysis_python/) where fixes are welcome."
   ]
  }
 ],
 "metadata": {
  "kernelspec": {
   "display_name": "Python 3",
   "language": "python",
   "name": "python3"
  },
  "language_info": {
   "codemirror_mode": {
    "name": "ipython",
    "version": 3
   },
   "file_extension": ".py",
   "mimetype": "text/x-python",
   "name": "python",
   "nbconvert_exporter": "python",
   "pygments_lexer": "ipython3",
   "version": "3.7.6"
  }
 },
 "nbformat": 4,
 "nbformat_minor": 4
}
